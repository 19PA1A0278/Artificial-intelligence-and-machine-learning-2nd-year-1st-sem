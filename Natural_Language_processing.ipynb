{
  "nbformat": 4,
  "nbformat_minor": 0,
  "metadata": {
    "colab": {
      "name": "Natural Language processing.ipynb",
      "provenance": [],
      "toc_visible": true
    },
    "kernelspec": {
      "name": "python3",
      "display_name": "Python 3"
    }
  },
  "cells": [
    {
      "cell_type": "markdown",
      "metadata": {
        "id": "0TUE11HvaX8m",
        "colab_type": "text"
      },
      "source": [
        "# Natural Language processing\n",
        "\n",
        "Natural Language Processing is the technology used to aid computers to understand the human’s natural language like English. The objective of NLP is to read, understand, and make sense of the human languages.\n",
        "NLP techniques rely on machine learning to derive meaning from human languages.\n",
        "\n",
        "NLTK is a python package to handle text data.  \n",
        "\n",
        "<br>\n",
        "\n",
        "**Following elements are discussed in this document**\n",
        "* Sentence tokenization\n",
        "* Word tokenization\n",
        "* Frequency distribution of words in  a document\n",
        "* Stop words\n",
        "* Stemming\n",
        "* Normalization\n",
        "* POS Tagger\n",
        "\n",
        "<br>\n",
        "\n",
        "At the end Sentiment analysis is performed on movie reviews dataset using Naivebayes theorm.\n",
        "* TF-IDF is used for word vectorization \n"
      ]
    },
    {
      "cell_type": "code",
      "metadata": {
        "id": "RUbhBAfZmwx6",
        "colab_type": "code",
        "colab": {}
      },
      "source": [
        "#import nltk package\n",
        "import nltk"
      ],
      "execution_count": 0,
      "outputs": []
    },
    {
      "cell_type": "markdown",
      "metadata": {
        "id": "psl-IzgXmF9k",
        "colab_type": "text"
      },
      "source": [
        "## Tokenization\n",
        "Tokenization is the first step in text analytics. The process of breaking down a text paragraph into smaller chunks such as words or sentence is called Tokenization. Token is a single entity that is building blocks for sentence or paragraph.\n",
        "\n",
        "## Sentence Tokenization\n",
        "Sentence tokenizer breaks text paragraph into sentences."
      ]
    },
    {
      "cell_type": "code",
      "metadata": {
        "id": "k55fR3ycm0O9",
        "colab_type": "code",
        "outputId": "ae01d50a-57d1-4dc4-acee-620845cfc12d",
        "colab": {
          "base_uri": "https://localhost:8080/",
          "height": 92
        }
      },
      "source": [
        "from nltk.tokenize import sent_tokenize\n",
        "nltk.download('punkt')\n",
        "text=\"Hello Mr. Smith, how are you doing today? The weather is great, and city is awesome.The sky is pinkish-blue. You shouldn't eat cardboard\"\n",
        "tokenized_text=sent_tokenize(text)\n",
        "print(tokenized_text)"
      ],
      "execution_count": 12,
      "outputs": [
        {
          "output_type": "stream",
          "text": [
            "[nltk_data] Downloading package punkt to /root/nltk_data...\n",
            "[nltk_data]   Package punkt is already up-to-date!\n",
            "['Hello Mr. Smith, how are you doing today?', 'The weather is great, and city is awesome.The sky is pinkish-blue.', \"You shouldn't eat cardboard\"]\n"
          ],
          "name": "stdout"
        }
      ]
    },
    {
      "cell_type": "markdown",
      "metadata": {
        "id": "bku5oKzSoIZH",
        "colab_type": "text"
      },
      "source": [
        "## Word Tokenization\n",
        "Word tokenizer breaks text paragraph into words."
      ]
    },
    {
      "cell_type": "code",
      "metadata": {
        "id": "pYeXqUQons5v",
        "colab_type": "code",
        "outputId": "dfb94bb5-1e4a-49b7-b213-97ca8221dc1d",
        "colab": {
          "base_uri": "https://localhost:8080/",
          "height": 55
        }
      },
      "source": [
        "from nltk.tokenize import word_tokenize\n",
        "\n",
        "tokenized_word=word_tokenize(text)\n",
        "print(tokenized_word)"
      ],
      "execution_count": 4,
      "outputs": [
        {
          "output_type": "stream",
          "text": [
            "['Hello', 'Mr.', 'Smith', ',', 'how', 'are', 'you', 'doing', 'today', '?', 'The', 'weather', 'is', 'great', ',', 'and', 'city', 'is', 'awesome.The', 'sky', 'is', 'pinkish-blue', '.', 'You', 'should', \"n't\", 'eat', 'cardboard']\n"
          ],
          "name": "stdout"
        }
      ]
    },
    {
      "cell_type": "markdown",
      "metadata": {
        "id": "YU03WFO2oP4T",
        "colab_type": "text"
      },
      "source": [
        "## Frequency distribution of words\n",
        "\n",
        "Let's check the word frequency in the document."
      ]
    },
    {
      "cell_type": "code",
      "metadata": {
        "id": "BA_xGzIMn4F_",
        "colab_type": "code",
        "outputId": "67195881-aa16-4771-adc0-9ac956062e8a",
        "colab": {
          "base_uri": "https://localhost:8080/",
          "height": 35
        }
      },
      "source": [
        "from nltk.probability import FreqDist\n",
        "fdist = FreqDist(tokenized_word)\n",
        "print(fdist)"
      ],
      "execution_count": 13,
      "outputs": [
        {
          "output_type": "stream",
          "text": [
            "<FreqDist with 25 samples and 28 outcomes>\n"
          ],
          "name": "stdout"
        }
      ]
    },
    {
      "cell_type": "code",
      "metadata": {
        "id": "Patt69qGpIFM",
        "colab_type": "code",
        "outputId": "22398bd2-0a45-4dc3-c639-52b1ba41051b",
        "colab": {
          "base_uri": "https://localhost:8080/",
          "height": 35
        }
      },
      "source": [
        "fdist.most_common(2)"
      ],
      "execution_count": 14,
      "outputs": [
        {
          "output_type": "execute_result",
          "data": {
            "text/plain": [
              "[('is', 3), (',', 2)]"
            ]
          },
          "metadata": {
            "tags": []
          },
          "execution_count": 14
        }
      ]
    },
    {
      "cell_type": "code",
      "metadata": {
        "id": "m3PPxyiVpMC6",
        "colab_type": "code",
        "outputId": "6cb2063e-f511-4dd3-ce9b-4e47f3aee69a",
        "colab": {
          "base_uri": "https://localhost:8080/",
          "height": 338
        }
      },
      "source": [
        "# Frequency Distribution Plot\n",
        "import matplotlib.pyplot as plt\n",
        "fdist.plot(30,cumulative=False)\n",
        "plt.show()"
      ],
      "execution_count": 7,
      "outputs": [
        {
          "output_type": "display_data",
          "data": {
            "image/png": "[encoded data removed]",
            "text/plain": [
              "<Figure size 432x288 with 1 Axes>"
            ]
          },
          "metadata": {
            "tags": [],
            "needs_background": "light"
          }
        }
      ]
    },
    {
      "cell_type": "markdown",
      "metadata": {
        "id": "x3-I-dOipIBl",
        "colab_type": "text"
      },
      "source": [
        "We see that most common words like \"is\" is repeted most of time which is expected. And the most common words will not give much information about the document. "
      ]
    },
    {
      "cell_type": "markdown",
      "metadata": {
        "id": "Up7BXfDapjMD",
        "colab_type": "text"
      },
      "source": [
        "## Stopwords\n",
        "Stopwords considered as noise in the text. Text may contain stop words such as is, am, are, this, a, an, the, etc.\n",
        "\n",
        "In NLTK for removing stopwords, you need to create a list of stopwords and filter out your list of tokens from these words."
      ]
    },
    {
      "cell_type": "code",
      "metadata": {
        "id": "9lOE2cCCp6QO",
        "colab_type": "code",
        "outputId": "322c6f1b-ffb9-497e-a7c7-521b8360d5e7",
        "colab": {
          "base_uri": "https://localhost:8080/",
          "height": 92
        }
      },
      "source": [
        "#let's list out stopwords available in NLTK package. \n",
        "\n",
        "from nltk.corpus import stopwords\n",
        "nltk.download('stopwords')\n",
        "stop_words=set(stopwords.words(\"english\"))\n",
        "print(stop_words)"
      ],
      "execution_count": 17,
      "outputs": [
        {
          "output_type": "stream",
          "text": [
            "[nltk_data] Downloading package stopwords to /root/nltk_data...\n",
            "[nltk_data]   Package stopwords is already up-to-date!\n",
            "{'his', 'your', \"she's\", 'been', 'once', \"you'd\", 'them', 'and', 'weren', 'does', 'between', \"hadn't\", 'up', 'of', 'she', 'hasn', \"isn't\", 'those', 'm', \"weren't\", 'nor', \"mustn't\", 'myself', 'both', 'did', 'during', 'have', 'same', 'ain', \"didn't\", 'theirs', 'on', \"wasn't\", 'few', 'can', 'too', 'in', 'as', 'yourself', 'himself', 'again', 'has', 'doesn', 'my', 'or', \"needn't\", 'the', 'themselves', 'while', 'to', 'who', 'whom', 'were', 'when', 'why', 'other', \"mightn't\", 'their', 'these', 'out', 'some', 've', 'don', 'yours', 'than', 'be', 'shouldn', 'more', 'won', 'him', 'itself', 'there', \"shan't\", 'here', 's', 'which', 'an', 'll', 'own', 'we', 'this', 'having', 'about', 'over', 'is', 'but', 'from', 'any', \"hasn't\", 'further', \"don't\", 'ourselves', 'down', 'wasn', \"that'll\", 'below', 'y', 'off', \"aren't\", 'a', 'how', 'herself', 'its', 'with', 'where', 'through', \"it's\", 'not', 'haven', 'mightn', 'our', 'for', 'each', 'am', 'most', 'do', 'was', 'only', 'ours', 'that', 'being', 'before', 'me', 'shan', 'if', \"you've\", 'are', 'so', \"doesn't\", 'i', 'mustn', 'by', 'after', 'd', 'at', 'hers', 'aren', \"haven't\", 'wouldn', 'o', \"shouldn't\", \"won't\", 'couldn', 'such', 'under', 'you', 'it', 't', 'should', 'ma', 'very', 'hadn', 'because', 'didn', \"couldn't\", 'isn', 'had', 'needn', \"you'll\", 'until', \"wouldn't\", 're', 'will', \"you're\", 'yourselves', 'what', 'above', 'no', 'now', 'then', 'they', 'all', \"should've\", 'her', 'against', 'he', 'into', 'doing', 'just'}\n"
          ],
          "name": "stdout"
        }
      ]
    },
    {
      "cell_type": "code",
      "metadata": {
        "id": "dfxQsddnqN31",
        "colab_type": "code",
        "outputId": "e47b17e6-4d7b-4601-a1fa-6c1839c7fa8f",
        "colab": {
          "base_uri": "https://localhost:8080/",
          "height": 74
        }
      },
      "source": [
        "#let's list the tokenized sentence and the filtered one\n",
        "\n",
        "filtered_sent=[]\n",
        "for w in tokenized_word:\n",
        "  if w not in stop_words:\n",
        "    filtered_sent.append(w)\n",
        "print(\"Tokenized Sentence:\",tokenized_word)\n",
        "print(\"Filterd Sentence:\",filtered_sent)"
      ],
      "execution_count": 18,
      "outputs": [
        {
          "output_type": "stream",
          "text": [
            "Tokenized Sentence: ['Hello', 'Mr.', 'Smith', ',', 'how', 'are', 'you', 'doing', 'today', '?', 'The', 'weather', 'is', 'great', ',', 'and', 'city', 'is', 'awesome.The', 'sky', 'is', 'pinkish-blue', '.', 'You', 'should', \"n't\", 'eat', 'cardboard']\n",
            "Filterd Sentence: ['Hello', 'Mr.', 'Smith', ',', 'today', '?', 'The', 'weather', 'great', ',', 'city', 'awesome.The', 'sky', 'pinkish-blue', '.', 'You', \"n't\", 'eat', 'cardboard']\n"
          ],
          "name": "stdout"
        }
      ]
    },
    {
      "cell_type": "code",
      "metadata": {
        "id": "KuRo_vWmqRPk",
        "colab_type": "code",
        "colab": {}
      },
      "source": [
        ""
      ],
      "execution_count": 0,
      "outputs": []
    },
    {
      "cell_type": "markdown",
      "metadata": {
        "id": "kJ0pexqXxtS4",
        "colab_type": "text"
      },
      "source": [
        "### **Lexicon Normalization**\n",
        "Lexicon normalization considers another type of noise in the text. For example, connection, connected, connecting word reduce to a common word \"connect\". It reduces derivationally related forms of a word to a common root word."
      ]
    },
    {
      "cell_type": "markdown",
      "metadata": {
        "id": "-NUTi0gqx85T",
        "colab_type": "text"
      },
      "source": [
        "### Stemming\n",
        "Stemming is a process of linguistic normalization, which reduces words to their word root word or chops off the derivational affixes. For example, connection, connected, connecting word reduce to a common word \"connect\"."
      ]
    },
    {
      "cell_type": "code",
      "metadata": {
        "id": "vsHb6jJiyAox",
        "colab_type": "code",
        "outputId": "042ec40c-ca84-4340-b1e3-002e5e7007e2",
        "colab": {
          "base_uri": "https://localhost:8080/",
          "height": 74
        }
      },
      "source": [
        "from nltk.stem import PorterStemmer\n",
        "\n",
        "ps = PorterStemmer()\n",
        "stemmed_words=[]\n",
        "for w in filtered_sent:\n",
        "  stemmed_words.append(ps.stem(w))\n",
        "print(\"Filtered Sentence:\",filtered_sent)\n",
        "print(\"Stemmed Sentence:\",stemmed_words)"
      ],
      "execution_count": 10,
      "outputs": [
        {
          "output_type": "stream",
          "text": [
            "Filtered Sentence: ['Hello', 'Mr.', 'Smith', ',', 'today', '?', 'The', 'weather', 'great', ',', 'city', 'awesome.The', 'sky', 'pinkish-blue', '.', 'You', \"n't\", 'eat', 'cardboard']\n",
            "Stemmed Sentence: ['hello', 'mr.', 'smith', ',', 'today', '?', 'the', 'weather', 'great', ',', 'citi', 'awesome.th', 'sky', 'pinkish-blu', '.', 'you', \"n't\", 'eat', 'cardboard']\n"
          ],
          "name": "stdout"
        }
      ]
    },
    {
      "cell_type": "markdown",
      "metadata": {
        "id": "b7OSpJeBzcyo",
        "colab_type": "text"
      },
      "source": [
        "### Lemmatization\n",
        "Lemmatization reduces words to their base word, which is linguistically correct lemmas. It transforms root word with the use of vocabulary and morphological analysis. Lemmatization is usually more sophisticated than stemming. Stemmer works on an individual word without knowledge of the context. For example, The word \"better\" has \"good\" as its lemma. This thing will miss by stemming because it requires a dictionary look-up."
      ]
    },
    {
      "cell_type": "code",
      "metadata": {
        "id": "3Z4KQiRcyxJO",
        "colab_type": "code",
        "outputId": "d7fb83b4-5fc8-4c13-d051-ad13ec3e9d68",
        "colab": {
          "base_uri": "https://localhost:8080/",
          "height": 90
        }
      },
      "source": [
        "from nltk.stem.wordnet import WordNetLemmatizer\n",
        "nltk.download('wordnet')\n",
        "lem = WordNetLemmatizer()\n",
        "\n",
        "stem = PorterStemmer()\n",
        "\n",
        "word = \"flying\"\n",
        "\n",
        "print(\"Lemmatized Word:\",lem.lemmatize(word,\"v\"))\n",
        "print(\"Stemmed Word:\",stem.stem(word))"
      ],
      "execution_count": 11,
      "outputs": [
        {
          "output_type": "stream",
          "text": [
            "[nltk_data] Downloading package wordnet to /root/nltk_data...\n",
            "[nltk_data]   Unzipping corpora/wordnet.zip.\n",
            "Lemmatized Word: fly\n",
            "Stemmed Word: fli\n"
          ],
          "name": "stdout"
        }
      ]
    },
    {
      "cell_type": "code",
      "metadata": {
        "id": "04X-p5CBz-Tk",
        "colab_type": "code",
        "outputId": "2baafddc-3f13-4ba8-9fb8-96ffe62003af",
        "colab": {
          "base_uri": "https://localhost:8080/",
          "height": 74
        }
      },
      "source": [
        "lem = WordNetLemmatizer()\n",
        "lemmitized_words=[]\n",
        "for w in filtered_sent:\n",
        "  lemmitized_words.append(lem.lemmatize(w))\n",
        "print(\"Filtered Sentence:\",filtered_sent)\n",
        "print(\"lemmitizer Sentence:\",lemmitized_words)"
      ],
      "execution_count": 0,
      "outputs": [
        {
          "output_type": "stream",
          "text": [
            "Filtered Sentence: ['Hello', 'Mr.', 'Smith', ',', 'today', '?', 'The', 'weather', 'great', ',', 'city', 'awesome.The', 'sky', 'pinkish-blue', '.', 'You', \"n't\", 'eat', 'cardboard']\n",
            "lemmitizer Sentence: ['Hello', 'Mr.', 'Smith', ',', 'today', '?', 'The', 'weather', 'great', ',', 'city', 'awesome.The', 'sky', 'pinkish-blue', '.', 'You', \"n't\", 'eat', 'cardboard']\n"
          ],
          "name": "stdout"
        }
      ]
    },
    {
      "cell_type": "markdown",
      "metadata": {
        "id": "AtZRtrhC14oD",
        "colab_type": "text"
      },
      "source": [
        "### POS Tagging\n",
        "The primary target of Part-of-Speech(POS) tagging is to identify the grammatical group of a given word. Whether it is a NOUN, PRONOUN, ADJECTIVE, VERB, ADVERBS, etc. based on the context. POS Tagging looks for relationships within the sentence and assigns a corresponding tag to the word."
      ]
    },
    {
      "cell_type": "code",
      "metadata": {
        "id": "tfe7J6Ha13AD",
        "colab_type": "code",
        "outputId": "0104bb09-d407-4d01-91aa-e925797f9246",
        "colab": {
          "base_uri": "https://localhost:8080/",
          "height": 435
        }
      },
      "source": [
        "nltk.download('averaged_perceptron_tagger')\n",
        "nltk.pos_tag(lemmitized_words)\n",
        "# check the link https://medium.com/@muddaprince456/categorizing-and-pos-tagging-with-nltk-python-28f2bc9312c3"
      ],
      "execution_count": 0,
      "outputs": [
        {
          "output_type": "stream",
          "text": [
            "[nltk_data] Downloading package averaged_perceptron_tagger to\n",
            "[nltk_data]     /root/nltk_data...\n",
            "[nltk_data]   Package averaged_perceptron_tagger is already up-to-\n",
            "[nltk_data]       date!\n"
          ],
          "name": "stdout"
        },
        {
          "output_type": "execute_result",
          "data": {
            "text/plain": [
              "[('Hello', 'NNP'),\n",
              " ('Mr.', 'NNP'),\n",
              " ('Smith', 'NNP'),\n",
              " (',', ','),\n",
              " ('today', 'NN'),\n",
              " ('?', '.'),\n",
              " ('The', 'DT'),\n",
              " ('weather', 'NN'),\n",
              " ('great', 'JJ'),\n",
              " (',', ','),\n",
              " ('city', 'NN'),\n",
              " ('awesome.The', 'NN'),\n",
              " ('sky', 'JJ'),\n",
              " ('pinkish-blue', 'NN'),\n",
              " ('.', '.'),\n",
              " ('You', 'PRP'),\n",
              " (\"n't\", 'RB'),\n",
              " ('eat', 'VB'),\n",
              " ('cardboard', 'NN')]"
            ]
          },
          "metadata": {
            "tags": []
          },
          "execution_count": 36
        }
      ]
    },
    {
      "cell_type": "markdown",
      "metadata": {
        "id": "lQygiwbl27ff",
        "colab_type": "text"
      },
      "source": [
        "### Sentiment Analysis\n",
        "Nowadays companies want to understand, what went wrong with their latest products? What users and the general public think about the latest feature? You can quantify such information with reasonable accuracy using sentiment analysis.\n",
        "\n",
        "Quantifying users content, idea, belief, and opinion is known as sentiment analysis. User's online post, blogs, tweets, feedback of product helps business people to the target audience and innovate in products and services. Sentiment analysis helps in understanding people in a better and more accurate way. It is not only limited to marketing, but it can also be utilized in politics, research, and security.\n",
        "\n",
        "Human communication just not limited to words, it is more than words. Sentiments are combination words, tone, and writing style. As a data analyst, It is more important to understand our sentiments, what it really means?\n",
        "\n",
        "There are mainly two approaches for performing sentiment analysis.\n",
        "\n",
        "* Lexicon-based: count number of positive and negative words in given text and the larger count will be the sentiment of text.\n",
        "\n",
        "* Machine learning based approach: Develop a classification model, which is trained using the pre-labeled dataset of positive, negative, and neutral.\n",
        "\n",
        "Let's try to learn 2nd approach"
      ]
    },
    {
      "cell_type": "markdown",
      "metadata": {
        "id": "N2djkoLJ3pTp",
        "colab_type": "text"
      },
      "source": [
        "### Text Classification\n",
        "Text classification is one of the important tasks of text mining. It is a supervised approach. Identifying category or class of given text such as a blog, book, web page, news articles, and tweets. It has various application in today's computer world such as spam detection, task categorization in CRM services, categorizing products on E-retailer websites, classifying the content of websites for a search engine, sentiments of customer feedback, etc. In the next section, you will learn how you can do text classification in python.\n",
        "\n",
        "![text classification](https://res.cloudinary.com/dyd911kmh/image/upload/f_auto,q_auto:best/v1535125878/NLTK3_zwbdgg.png)"
      ]
    },
    {
      "cell_type": "markdown",
      "metadata": {
        "id": "c_27IFuL4Ocd",
        "colab_type": "text"
      },
      "source": [
        "### Performing Sentiment Analysis using Text Classification"
      ]
    },
    {
      "cell_type": "code",
      "metadata": {
        "id": "XiArbINr06vd",
        "colab_type": "code",
        "colab": {}
      },
      "source": [
        "# Import pandas\n",
        "import pandas as pd"
      ],
      "execution_count": 0,
      "outputs": []
    },
    {
      "cell_type": "markdown",
      "metadata": {
        "id": "ox1SGJfSB7Fv",
        "colab_type": "text"
      },
      "source": [
        "### Loading Data\n",
        "Till now, you have learned data pre-processing using NLTK. Now, you will learn Text Classification. You will perform Multi-Nomial Naive Bayes Classification using scikit-learn.\n",
        "\n",
        "In the model the building part, you can use the \"Sentiment Analysis of Movie, Reviews\" dataset available on Kaggle. The dataset is a tab-separated file. Dataset has four columns PhraseId, SentenceId, Phrase, and Sentiment.\n",
        "\n",
        "This data has 5 sentiment labels:\n",
        "* 0 - negative \n",
        "* 1 - somewhat negative \n",
        "* 2 - neutral \n",
        "* 3 - somewhat positive \n",
        "* 4 - positive\n",
        "\n",
        "Here, you can build a model to classify the type sentiments.\n",
        "The dataset is available on Kaggle. You can download it from the following link: https://www.kaggle.com/c/sentiment-analysis-on-movie-reviews/data"
      ]
    },
    {
      "cell_type": "code",
      "metadata": {
        "id": "b2E9uNKlB9cw",
        "colab_type": "code",
        "colab": {}
      },
      "source": [
        "data=pd.read_csv('train.tsv', sep='\\t')"
      ],
      "execution_count": 0,
      "outputs": []
    },
    {
      "cell_type": "code",
      "metadata": {
        "id": "gGtg6jKsE4e-",
        "colab_type": "code",
        "outputId": "b8750049-8f90-41b9-b0af-62cce8b944eb",
        "colab": {
          "base_uri": "https://localhost:8080/",
          "height": 198
        }
      },
      "source": [
        "data.head()"
      ],
      "execution_count": 0,
      "outputs": [
        {
          "output_type": "execute_result",
          "data": {
            "text/html": [
              "<div>\n",
              "<style scoped>\n",
              "    .dataframe tbody tr th:only-of-type {\n",
              "        vertical-align: middle;\n",
              "    }\n",
              "\n",
              "    .dataframe tbody tr th {\n",
              "        vertical-align: top;\n",
              "    }\n",
              "\n",
              "    .dataframe thead th {\n",
              "        text-align: right;\n",
              "    }\n",
              "</style>\n",
              "<table border=\"1\" class=\"dataframe\">\n",
              "  <thead>\n",
              "    <tr style=\"text-align: right;\">\n",
              "      <th></th>\n",
              "      <th>PhraseId</th>\n",
              "      <th>SentenceId</th>\n",
              "      <th>Phrase</th>\n",
              "      <th>Sentiment</th>\n",
              "    </tr>\n",
              "  </thead>\n",
              "  <tbody>\n",
              "    <tr>\n",
              "      <th>0</th>\n",
              "      <td>1</td>\n",
              "      <td>1</td>\n",
              "      <td>A series of escapades demonstrating the adage ...</td>\n",
              "      <td>1</td>\n",
              "    </tr>\n",
              "    <tr>\n",
              "      <th>1</th>\n",
              "      <td>2</td>\n",
              "      <td>1</td>\n",
              "      <td>A series of escapades demonstrating the adage ...</td>\n",
              "      <td>2</td>\n",
              "    </tr>\n",
              "    <tr>\n",
              "      <th>2</th>\n",
              "      <td>3</td>\n",
              "      <td>1</td>\n",
              "      <td>A series</td>\n",
              "      <td>2</td>\n",
              "    </tr>\n",
              "    <tr>\n",
              "      <th>3</th>\n",
              "      <td>4</td>\n",
              "      <td>1</td>\n",
              "      <td>A</td>\n",
              "      <td>2</td>\n",
              "    </tr>\n",
              "    <tr>\n",
              "      <th>4</th>\n",
              "      <td>5</td>\n",
              "      <td>1</td>\n",
              "      <td>series</td>\n",
              "      <td>2</td>\n",
              "    </tr>\n",
              "  </tbody>\n",
              "</table>\n",
              "</div>"
            ],
            "text/plain": [
              "   PhraseId  ...  Sentiment\n",
              "0         1  ...          1\n",
              "1         2  ...          2\n",
              "2         3  ...          2\n",
              "3         4  ...          2\n",
              "4         5  ...          2\n",
              "\n",
              "[5 rows x 4 columns]"
            ]
          },
          "metadata": {
            "tags": []
          },
          "execution_count": 39
        }
      ]
    },
    {
      "cell_type": "code",
      "metadata": {
        "id": "pTYwA4KRE6d4",
        "colab_type": "code",
        "outputId": "3d5d11f6-d3a2-4759-e4d2-b9d27c45a753",
        "colab": {
          "base_uri": "https://localhost:8080/",
          "height": 217
        }
      },
      "source": [
        "data.info()"
      ],
      "execution_count": 0,
      "outputs": [
        {
          "output_type": "stream",
          "text": [
            "<class 'pandas.core.frame.DataFrame'>\n",
            "RangeIndex: 156060 entries, 0 to 156059\n",
            "Data columns (total 4 columns):\n",
            " #   Column      Non-Null Count   Dtype \n",
            "---  ------      --------------   ----- \n",
            " 0   PhraseId    156060 non-null  int64 \n",
            " 1   SentenceId  156060 non-null  int64 \n",
            " 2   Phrase      156060 non-null  object\n",
            " 3   Sentiment   156060 non-null  int64 \n",
            "dtypes: int64(3), object(1)\n",
            "memory usage: 4.8+ MB\n"
          ],
          "name": "stdout"
        }
      ]
    },
    {
      "cell_type": "code",
      "metadata": {
        "id": "E749iMubFAdX",
        "colab_type": "code",
        "outputId": "f131d34d-9fdb-42d0-9acd-539f47450508",
        "colab": {
          "base_uri": "https://localhost:8080/",
          "height": 126
        }
      },
      "source": [
        "data.Sentiment.value_counts()"
      ],
      "execution_count": 0,
      "outputs": [
        {
          "output_type": "execute_result",
          "data": {
            "text/plain": [
              "2    79582\n",
              "3    32927\n",
              "1    27273\n",
              "4     9206\n",
              "0     7072\n",
              "Name: Sentiment, dtype: int64"
            ]
          },
          "metadata": {
            "tags": []
          },
          "execution_count": 41
        }
      ]
    },
    {
      "cell_type": "markdown",
      "metadata": {
        "id": "RJ6oSVeBFy4k",
        "colab_type": "text"
      },
      "source": [
        "### Feature Generation using TF-IDF\n",
        "\n",
        "The main issue with this Term Frequency is that it will give more weight to longer documents. Term frequency is basically the output of the BoW model.\n",
        "\n",
        "IDF(Inverse Document Frequency) measures the amount of information a given word provides across the document. IDF is the logarithmically scaled inverse ratio of the number of documents that contain the word and the total number of documents.\n",
        "\n",
        "![text classification](https://res.cloudinary.com/dyd911kmh/image/upload/f_auto,q_auto:best/v1535125878/NLTK6_pwucct.png)\n",
        "\n",
        "TF-IDF(Term Frequency-Inverse Document Frequency) normalizes the document term matrix. It is the product of TF and IDF. Word with high tf-idf in a document, it is most of the times occurred in given documents and must be absent in the other documents. So the words must be a signature word."
      ]
    },
    {
      "cell_type": "code",
      "metadata": {
        "id": "jNSPs-M3FH_0",
        "colab_type": "code",
        "colab": {}
      },
      "source": [
        "from sklearn.feature_extraction.text import TfidfVectorizer\n",
        "tf=TfidfVectorizer()\n",
        "text_tf= tf.fit_transform(data['Phrase'])"
      ],
      "execution_count": 0,
      "outputs": []
    },
    {
      "cell_type": "markdown",
      "metadata": {
        "id": "bJRfFa3oG8BT",
        "colab_type": "text"
      },
      "source": [
        "### Split train and test set (TF-IDF)\n",
        "Let's split dataset by using function train_test_split(). You need to pass basically 3 parameters features, target, and test_set size. Additionally, you can use random_state to select records randomly."
      ]
    },
    {
      "cell_type": "code",
      "metadata": {
        "id": "-cJqdjiyGvuT",
        "colab_type": "code",
        "colab": {}
      },
      "source": [
        "from sklearn.model_selection import train_test_split\n",
        "X_train, X_test, y_train, y_test = train_test_split(text_tf, data['Sentiment'], test_size=0.3, random_state=123)"
      ],
      "execution_count": 0,
      "outputs": []
    },
    {
      "cell_type": "markdown",
      "metadata": {
        "id": "ygUmzjbhHU6Q",
        "colab_type": "text"
      },
      "source": [
        "### Model Building and Evaluation (TF-IDF)\n",
        "Let's build the Text Classification Model using TF-IDF.\n",
        "\n",
        "First, import the MultinomialNB module and create the Multinomial Naive Bayes classifier object using MultinomialNB() function.\n",
        "\n",
        "Then, fit your model on a train set using fit() and perform prediction on the test set using predict()."
      ]
    },
    {
      "cell_type": "code",
      "metadata": {
        "id": "FfhmXF09GzbV",
        "colab_type": "code",
        "outputId": "56cebd86-33fd-470d-f7a6-4882b0651e5b",
        "colab": {
          "base_uri": "https://localhost:8080/",
          "height": 35
        }
      },
      "source": [
        "from sklearn.naive_bayes import MultinomialNB\n",
        "from sklearn import metrics\n",
        "# Model Generation Using Multinomial Naive Bayes\n",
        "clf = MultinomialNB().fit(X_train, y_train)\n",
        "predicted= clf.predict(X_test)\n",
        "print(\"MultinomialNB Accuracy:\",metrics.accuracy_score(y_test, predicted))"
      ],
      "execution_count": 0,
      "outputs": [
        {
          "output_type": "stream",
          "text": [
            "MultinomialNB Accuracy: 0.5865265496176684\n"
          ],
          "name": "stdout"
        }
      ]
    },
    {
      "cell_type": "markdown",
      "metadata": {
        "id": "PFD-Xyi4I5ZF",
        "colab_type": "text"
      },
      "source": [
        "## Which is very low..."
      ]
    }
  ]
}